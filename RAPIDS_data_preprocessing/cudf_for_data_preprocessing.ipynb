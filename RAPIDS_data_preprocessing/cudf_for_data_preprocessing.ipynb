{
  "nbformat": 4,
  "nbformat_minor": 0,
  "metadata": {
    "colab": {
      "provenance": [],
      "gpuType": "T4"
    },
    "kernelspec": {
      "name": "python3",
      "display_name": "Python 3"
    },
    "language_info": {
      "name": "python"
    },
    "accelerator": "GPU"
  },
  "cells": [
    {
      "cell_type": "code",
      "execution_count": 1,
      "metadata": {
        "colab": {
          "base_uri": "https://localhost:8080/"
        },
        "id": "V4711Y6PYw_W",
        "outputId": "a44f5cbb-c7bc-491e-d63e-15425f30dd5b"
      },
      "outputs": [
        {
          "output_type": "stream",
          "name": "stdout",
          "text": [
            "Sun Sep 28 17:33:51 2025       \n",
            "+-----------------------------------------------------------------------------------------+\n",
            "| NVIDIA-SMI 550.54.15              Driver Version: 550.54.15      CUDA Version: 12.4     |\n",
            "|-----------------------------------------+------------------------+----------------------+\n",
            "| GPU  Name                 Persistence-M | Bus-Id          Disp.A | Volatile Uncorr. ECC |\n",
            "| Fan  Temp   Perf          Pwr:Usage/Cap |           Memory-Usage | GPU-Util  Compute M. |\n",
            "|                                         |                        |               MIG M. |\n",
            "|=========================================+========================+======================|\n",
            "|   0  Tesla T4                       Off |   00000000:00:04.0 Off |                    0 |\n",
            "| N/A   57C    P8             10W /   70W |       0MiB /  15360MiB |      0%      Default |\n",
            "|                                         |                        |                  N/A |\n",
            "+-----------------------------------------+------------------------+----------------------+\n",
            "                                                                                         \n",
            "+-----------------------------------------------------------------------------------------+\n",
            "| Processes:                                                                              |\n",
            "|  GPU   GI   CI        PID   Type   Process name                              GPU Memory |\n",
            "|        ID   ID                                                               Usage      |\n",
            "|=========================================================================================|\n",
            "|  No running processes found                                                             |\n",
            "+-----------------------------------------------------------------------------------------+\n"
          ]
        }
      ],
      "source": [
        "!nvidia-smi"
      ]
    },
    {
      "cell_type": "code",
      "source": [
        "#  RAPIDS installation\n",
        "!git clone https://github.com/rapidsai/rapidsai-csp-utils.git\n",
        "!python rapidsai-csp-utils/colab/pip-install.py"
      ],
      "metadata": {
        "colab": {
          "base_uri": "https://localhost:8080/"
        },
        "collapsed": true,
        "id": "aoVSdpoWYxf6",
        "outputId": "8ddd16e6-232b-4182-8b19-2c1eeab81693"
      },
      "execution_count": 2,
      "outputs": [
        {
          "output_type": "stream",
          "name": "stdout",
          "text": [
            "Cloning into 'rapidsai-csp-utils'...\n",
            "remote: Enumerating objects: 603, done.\u001b[K\n",
            "remote: Counting objects: 100% (169/169), done.\u001b[K\n",
            "remote: Compressing objects: 100% (87/87), done.\u001b[K\n",
            "remote: Total 603 (delta 131), reused 82 (delta 82), pack-reused 434 (from 3)\u001b[K\n",
            "Receiving objects: 100% (603/603), 199.38 KiB | 446.00 KiB/s, done.\n",
            "Resolving deltas: 100% (305/305), done.\n",
            "Installing RAPIDS remaining 25.08 libraries\n",
            "Using Python 3.12.11 environment at: /usr\n",
            "Resolved 180 packages in 12.62s\n",
            "Prepared 41 packages in 49.22s\n",
            "Uninstalled 31 packages in 1.08s\n",
            "Installed 41 packages in 393ms\n",
            " - bokeh==3.7.3\n",
            " + bokeh==3.6.3\n",
            " + cucim-cu12==25.8.0\n",
            " + cuda-bindings==12.9.2\n",
            " + cuda-pathfinder==1.2.3\n",
            " - cuda-python==12.6.2.post1\n",
            " + cuda-python==12.9.2\n",
            " - cudf-cu12==25.6.0 (from https://pypi.nvidia.com/cudf-cu12/cudf_cu12-25.6.0-cp312-cp312-manylinux_2_24_x86_64.manylinux_2_28_x86_64.whl)\n",
            " + cudf-cu12==25.8.0\n",
            " + cugraph-cu12==25.8.0\n",
            " - cuml-cu12==25.6.0\n",
            " + cuml-cu12==25.8.0\n",
            " - cuvs-cu12==25.6.1\n",
            " + cuvs-cu12==25.8.0\n",
            " + cuxfilter-cu12==25.8.0\n",
            " - dask==2025.5.0\n",
            " + dask==2025.7.0\n",
            " - dask-cuda==25.6.0\n",
            " + dask-cuda==25.8.0\n",
            " - dask-cudf-cu12==25.6.0\n",
            " + dask-cudf-cu12==25.8.0\n",
            " + datashader==0.18.2\n",
            " - distributed==2025.5.0\n",
            " + distributed==2025.7.0\n",
            " - distributed-ucxx-cu12==0.44.0\n",
            " + distributed-ucxx-cu12==0.45.1\n",
            " - holoviews==1.21.0\n",
            " + holoviews==1.20.2\n",
            " + jupyter-server-proxy==4.4.0\n",
            " - libcudf-cu12==25.6.0 (from https://pypi.nvidia.com/libcudf-cu12/libcudf_cu12-25.6.0-py3-none-manylinux_2_28_x86_64.whl)\n",
            " + libcudf-cu12==25.8.0\n",
            " - libcugraph-cu12==25.6.0\n",
            " + libcugraph-cu12==25.8.0\n",
            " - libcuml-cu12==25.6.0\n",
            " + libcuml-cu12==25.8.0\n",
            " - libcuvs-cu12==25.6.1\n",
            " + libcuvs-cu12==25.8.0\n",
            " - libkvikio-cu12==25.6.0\n",
            " + libkvikio-cu12==25.8.0\n",
            " - libraft-cu12==25.6.0\n",
            " + libraft-cu12==25.8.0\n",
            " - librmm-cu12==25.6.0\n",
            " + librmm-cu12==25.8.0\n",
            " - libucxx-cu12==0.44.0\n",
            " + libucxx-cu12==0.45.1\n",
            " - numba-cuda==0.11.0\n",
            " + numba-cuda==0.14.1\n",
            " + nvidia-cuda-cccl-cu12==12.9.27\n",
            " - nx-cugraph-cu12==25.6.0 (from https://pypi.nvidia.com/nx-cugraph-cu12/nx_cugraph_cu12-25.6.0-py3-none-any.whl)\n",
            " + nx-cugraph-cu12==25.8.0\n",
            " - panel==1.8.1\n",
            " + panel==1.7.5\n",
            " + pyct==0.6.0\n",
            " - pylibcudf-cu12==25.6.0 (from https://pypi.nvidia.com/pylibcudf-cu12/pylibcudf_cu12-25.6.0-cp312-cp312-manylinux_2_24_x86_64.manylinux_2_28_x86_64.whl)\n",
            " + pylibcudf-cu12==25.8.0\n",
            " - pylibcugraph-cu12==25.6.0\n",
            " + pylibcugraph-cu12==25.8.0\n",
            " - pylibraft-cu12==25.6.0\n",
            " + pylibraft-cu12==25.8.0\n",
            " - raft-dask-cu12==25.6.0\n",
            " + raft-dask-cu12==25.8.0\n",
            " - rapids-dask-dependency==25.6.0\n",
            " + rapids-dask-dependency==25.8.0\n",
            " - rmm-cu12==25.6.0\n",
            " + rmm-cu12==25.8.0\n",
            " - shapely==2.1.1\n",
            " + shapely==2.0.7\n",
            " + simpervisor==1.0.0\n",
            " - ucx-py-cu12==0.44.0\n",
            " + ucx-py-cu12==0.45.0\n",
            " - ucxx-cu12==0.44.0\n",
            " + ucxx-cu12==0.45.1\n",
            "\n",
            "        ***********************************************************************\n",
            "        The pip install of RAPIDS is complete.\n",
            "\n",
            "        Please do not run any further installation from the conda based installation methods, as they may cause issues!\n",
            "\n",
            "        Please ensure that you're pulling from the git repo to remain updated with the latest working install scripts.\n",
            "\n",
            "        Troubleshooting:\n",
            "            - If there is an installation failure, please check back on RAPIDSAI owned templates/notebooks to see how to update your personal files.\n",
            "            - If an installation failure persists when using the latest script, please make an issue on https://github.com/rapidsai-community/rapidsai-csp-utils\n",
            "        ***********************************************************************\n",
            "        \n"
          ]
        }
      ]
    },
    {
      "cell_type": "code",
      "source": [
        "import cudf\n",
        "import cuml\n",
        "import numpy as np\n",
        "import pandas as pd\n",
        "import os\n",
        "import glob\n"
      ],
      "metadata": {
        "id": "uDmqBxpgA-Ym"
      },
      "execution_count": 105,
      "outputs": []
    },
    {
      "cell_type": "markdown",
      "source": [
        "## simple test for the rapids"
      ],
      "metadata": {
        "id": "jvNCU6-Miixc"
      }
    },
    {
      "cell_type": "code",
      "source": [
        "#just testing\n",
        "\n",
        "df = cudf.DataFrame({\n",
        "    'x': np.random.randn(1000),\n",
        "    'y': np.random.randn(1000)\n",
        "})\n",
        "\n",
        "print(df.head())\n",
        "print(f\"Memory usage: {df.memory_usage().sum()} bytes\")\n",
        "\n",
        "# cuML for machine learning\n",
        "from cuml.linear_model import LinearRegression\n",
        "\n",
        "X = cudf.DataFrame({'feature': np.random.randn(1000)})\n",
        "y = cudf.Series(np.random.randn(1000))\n",
        "\n",
        "model = LinearRegression()\n",
        "model.fit(X, y)\n",
        "predictions = model.predict(X)"
      ],
      "metadata": {
        "colab": {
          "base_uri": "https://localhost:8080/"
        },
        "id": "THgy00IvY4l_",
        "outputId": "efd13330-d661-4e1a-e972-a57a8f60ca1d"
      },
      "execution_count": 1,
      "outputs": [
        {
          "output_type": "stream",
          "name": "stdout",
          "text": [
            "          x         y\n",
            "0 -0.457082 -1.042492\n",
            "1 -0.728086  0.907995\n",
            "2  0.248947 -0.990382\n",
            "3 -0.275262  0.606827\n",
            "4 -0.351720  1.266213\n",
            "Memory usage: 16000 bytes\n"
          ]
        },
        {
          "output_type": "stream",
          "name": "stderr",
          "text": [
            "/usr/local/lib/python3.12/dist-packages/cuml/internals/api_decorators.py:211: UserWarning: Changing solver from 'eig' to 'svd' as eig solver does not support training data with 1 column currently.\n",
            "  ret = func(*args, **kwargs)\n"
          ]
        }
      ]
    },
    {
      "cell_type": "markdown",
      "source": [
        "## lets get to work !\n",
        "### first we have to choose an adequate dataset , airline dataset is what is mostly used by rapids users , so we will work with it"
      ],
      "metadata": {
        "id": "AHbb3Unyilvs"
      }
    },
    {
      "cell_type": "code",
      "source": [
        "import kagglehub\n",
        "\n",
        "# Download latest version\n",
        "path = kagglehub.dataset_download(\"iamsouravbanerjee/airline-dataset\")\n",
        "\n",
        "print(\"Path to dataset files:\", path)"
      ],
      "metadata": {
        "colab": {
          "base_uri": "https://localhost:8080/"
        },
        "id": "f24etXENaWdB",
        "outputId": "e408467e-44e0-414b-cfa2-efeac9d95f31"
      },
      "execution_count": 2,
      "outputs": [
        {
          "output_type": "stream",
          "name": "stdout",
          "text": [
            "Downloading from https://www.kaggle.com/api/v1/datasets/download/iamsouravbanerjee/airline-dataset?dataset_version_number=4...\n"
          ]
        },
        {
          "output_type": "stream",
          "name": "stderr",
          "text": [
            "100%|██████████| 12.5M/12.5M [00:01<00:00, 8.09MB/s]"
          ]
        },
        {
          "output_type": "stream",
          "name": "stdout",
          "text": [
            "Extracting files...\n"
          ]
        },
        {
          "output_type": "stream",
          "name": "stderr",
          "text": [
            "\n"
          ]
        },
        {
          "output_type": "stream",
          "name": "stdout",
          "text": [
            "Path to dataset files: /root/.cache/kagglehub/datasets/iamsouravbanerjee/airline-dataset/versions/4\n"
          ]
        }
      ]
    },
    {
      "cell_type": "code",
      "source": [
        "df = cudf.read_csv(os.path.join(path, \"Airline Dataset Updated - v2.csv\"))\n",
        "\n",
        "csv_files = glob.glob(os.path.join(path, \"*.csv\"))\n",
        "print(\"CSV files found:\", csv_files)\n",
        "\n",
        "if csv_files:\n",
        "    df = cudf.read_csv(csv_files[0])\n",
        "    print(\"Dataset loaded successfully!\")\n",
        "    print(f\"Shape: {df.shape}\")\n",
        ""
      ],
      "metadata": {
        "colab": {
          "base_uri": "https://localhost:8080/"
        },
        "id": "KWXRsnV7ie7o",
        "outputId": "12d6cb65-befc-402f-bd50-2af464106c49"
      },
      "execution_count": 43,
      "outputs": [
        {
          "output_type": "stream",
          "name": "stdout",
          "text": [
            "CSV files found: ['/root/.cache/kagglehub/datasets/iamsouravbanerjee/airline-dataset/versions/4/Airline Dataset Updated.csv', '/root/.cache/kagglehub/datasets/iamsouravbanerjee/airline-dataset/versions/4/Airline Dataset.csv', '/root/.cache/kagglehub/datasets/iamsouravbanerjee/airline-dataset/versions/4/Airline Dataset Updated - v2.csv']\n",
            "Dataset loaded successfully!\n",
            "Shape: (98619, 15)\n"
          ]
        }
      ]
    },
    {
      "cell_type": "code",
      "source": [
        "print(df.head())"
      ],
      "metadata": {
        "colab": {
          "base_uri": "https://localhost:8080/"
        },
        "id": "_FWgyW6bjlca",
        "outputId": "03898754-76c9-4bde-9d4c-5b43fcc954d6"
      },
      "execution_count": 44,
      "outputs": [
        {
          "output_type": "stream",
          "name": "stdout",
          "text": [
            "  Passenger ID First Name Last Name  Gender  Age Nationality  \\\n",
            "0       ABVWIg     Edithe    Leggis  Female   62       Japan   \n",
            "1       jkXXAX     Elwood      Catt    Male   62   Nicaragua   \n",
            "2       CdUz2g      Darby   Felgate    Male   67      Russia   \n",
            "3       BRS38V   Dominica      Pyle  Female   71       China   \n",
            "4       9kvTLo        Bay   Pencost    Male   21       China   \n",
            "\n",
            "                Airport Name Airport Country Code   Country Name  \\\n",
            "0           Coldfoot Airport                   US  United States   \n",
            "1          Kugluktuk Airport                   CA         Canada   \n",
            "2     Grenoble-Isère Airport                   FR         France   \n",
            "3  Ottawa / Gatineau Airport                   CA         Canada   \n",
            "4            Gillespie Field                   US  United States   \n",
            "\n",
            "  Airport Continent     Continents Departure Date Arrival Airport  \\\n",
            "0               NAM  North America      6/28/2022             CXF   \n",
            "1               NAM  North America     12/26/2022             YCO   \n",
            "2                EU         Europe      1/18/2022             GNB   \n",
            "3               NAM  North America      9/16/2022             YND   \n",
            "4               NAM  North America      2/25/2022             SEE   \n",
            "\n",
            "      Pilot Name Flight Status  \n",
            "0  Edithe Leggis       On Time  \n",
            "1    Elwood Catt       On Time  \n",
            "2  Darby Felgate       On Time  \n",
            "3  Dominica Pyle       Delayed  \n",
            "4    Bay Pencost       On Time  \n"
          ]
        }
      ]
    },
    {
      "cell_type": "code",
      "source": [
        "df.shape"
      ],
      "metadata": {
        "colab": {
          "base_uri": "https://localhost:8080/"
        },
        "id": "6jknr0Pxjp_B",
        "outputId": "dfee4ade-c8cf-4b08-8ebe-676266844ff1"
      },
      "execution_count": 45,
      "outputs": [
        {
          "output_type": "execute_result",
          "data": {
            "text/plain": [
              "(98619, 15)"
            ]
          },
          "metadata": {},
          "execution_count": 45
        }
      ]
    },
    {
      "cell_type": "markdown",
      "source": [
        "we have almost 10 000 lignes  , with 15 rows"
      ],
      "metadata": {
        "id": "Y5i6bisvlkjy"
      }
    },
    {
      "cell_type": "code",
      "source": [
        "df.columns"
      ],
      "metadata": {
        "colab": {
          "base_uri": "https://localhost:8080/"
        },
        "id": "yGSHAR2FliO3",
        "outputId": "53c5b866-26d0-4b47-9c19-e1f114154429"
      },
      "execution_count": 46,
      "outputs": [
        {
          "output_type": "execute_result",
          "data": {
            "text/plain": [
              "Index(['Passenger ID', 'First Name', 'Last Name', 'Gender', 'Age',\n",
              "       'Nationality', 'Airport Name', 'Airport Country Code', 'Country Name',\n",
              "       'Airport Continent', 'Continents', 'Departure Date', 'Arrival Airport',\n",
              "       'Pilot Name', 'Flight Status'],\n",
              "      dtype='object')"
            ]
          },
          "metadata": {},
          "execution_count": 46
        }
      ]
    },
    {
      "cell_type": "code",
      "source": [
        "df.dtypes"
      ],
      "metadata": {
        "colab": {
          "base_uri": "https://localhost:8080/",
          "height": 554
        },
        "id": "H0P5Fh2Blo7R",
        "outputId": "e88a2658-4efa-47ac-c5ba-0fc258187c05"
      },
      "execution_count": 47,
      "outputs": [
        {
          "output_type": "execute_result",
          "data": {
            "text/plain": [
              "Passenger ID            object\n",
              "First Name              object\n",
              "Last Name               object\n",
              "Gender                  object\n",
              "Age                      int64\n",
              "Nationality             object\n",
              "Airport Name            object\n",
              "Airport Country Code    object\n",
              "Country Name            object\n",
              "Airport Continent       object\n",
              "Continents              object\n",
              "Departure Date          object\n",
              "Arrival Airport         object\n",
              "Pilot Name              object\n",
              "Flight Status           object\n",
              "dtype: object"
            ],
            "text/html": [
              "<div>\n",
              "<style scoped>\n",
              "    .dataframe tbody tr th:only-of-type {\n",
              "        vertical-align: middle;\n",
              "    }\n",
              "\n",
              "    .dataframe tbody tr th {\n",
              "        vertical-align: top;\n",
              "    }\n",
              "\n",
              "    .dataframe thead th {\n",
              "        text-align: right;\n",
              "    }\n",
              "</style>\n",
              "<table border=\"1\" class=\"dataframe\">\n",
              "  <thead>\n",
              "    <tr style=\"text-align: right;\">\n",
              "      <th></th>\n",
              "      <th>0</th>\n",
              "    </tr>\n",
              "  </thead>\n",
              "  <tbody>\n",
              "    <tr>\n",
              "      <th>Passenger ID</th>\n",
              "      <td>object</td>\n",
              "    </tr>\n",
              "    <tr>\n",
              "      <th>First Name</th>\n",
              "      <td>object</td>\n",
              "    </tr>\n",
              "    <tr>\n",
              "      <th>Last Name</th>\n",
              "      <td>object</td>\n",
              "    </tr>\n",
              "    <tr>\n",
              "      <th>Gender</th>\n",
              "      <td>object</td>\n",
              "    </tr>\n",
              "    <tr>\n",
              "      <th>Age</th>\n",
              "      <td>int64</td>\n",
              "    </tr>\n",
              "    <tr>\n",
              "      <th>Nationality</th>\n",
              "      <td>object</td>\n",
              "    </tr>\n",
              "    <tr>\n",
              "      <th>Airport Name</th>\n",
              "      <td>object</td>\n",
              "    </tr>\n",
              "    <tr>\n",
              "      <th>Airport Country Code</th>\n",
              "      <td>object</td>\n",
              "    </tr>\n",
              "    <tr>\n",
              "      <th>Country Name</th>\n",
              "      <td>object</td>\n",
              "    </tr>\n",
              "    <tr>\n",
              "      <th>Airport Continent</th>\n",
              "      <td>object</td>\n",
              "    </tr>\n",
              "    <tr>\n",
              "      <th>Continents</th>\n",
              "      <td>object</td>\n",
              "    </tr>\n",
              "    <tr>\n",
              "      <th>Departure Date</th>\n",
              "      <td>object</td>\n",
              "    </tr>\n",
              "    <tr>\n",
              "      <th>Arrival Airport</th>\n",
              "      <td>object</td>\n",
              "    </tr>\n",
              "    <tr>\n",
              "      <th>Pilot Name</th>\n",
              "      <td>object</td>\n",
              "    </tr>\n",
              "    <tr>\n",
              "      <th>Flight Status</th>\n",
              "      <td>object</td>\n",
              "    </tr>\n",
              "  </tbody>\n",
              "</table>\n",
              "</div><br><label><b>dtype:</b> object</label>"
            ]
          },
          "metadata": {},
          "execution_count": 47
        }
      ]
    },
    {
      "cell_type": "markdown",
      "source": [
        "for the column of Departure date , which is obviously a date , with rapids it has been read as object/string so we would have to change it up later"
      ],
      "metadata": {
        "id": "QyblEYGql4vs"
      }
    },
    {
      "cell_type": "code",
      "source": [
        "#we check for null values\n",
        "df.isnull().sum()"
      ],
      "metadata": {
        "colab": {
          "base_uri": "https://localhost:8080/"
        },
        "id": "PvdWJXNlluQ7",
        "outputId": "ab137405-8bba-4337-ef12-4becdc3dbf98"
      },
      "execution_count": 48,
      "outputs": [
        {
          "output_type": "execute_result",
          "data": {
            "text/plain": [
              "Passenger ID             0\n",
              "First Name               0\n",
              "Last Name                0\n",
              "Gender                   0\n",
              "Age                      0\n",
              "Nationality              0\n",
              "Airport Name             0\n",
              "Airport Country Code     0\n",
              "Country Name             0\n",
              "Airport Continent        0\n",
              "Continents               0\n",
              "Departure Date           0\n",
              "Arrival Airport         10\n",
              "Pilot Name               0\n",
              "Flight Status            0\n",
              "dtype: int64"
            ]
          },
          "metadata": {},
          "execution_count": 48
        }
      ]
    },
    {
      "cell_type": "code",
      "source": [
        "#we check for duplicates\n",
        "df.duplicated().sum()"
      ],
      "metadata": {
        "colab": {
          "base_uri": "https://localhost:8080/"
        },
        "id": "CulQgkBnmJH7",
        "outputId": "6151cdd4-41ee-4d74-c540-bec629ff1205"
      },
      "execution_count": 49,
      "outputs": [
        {
          "output_type": "execute_result",
          "data": {
            "text/plain": [
              "np.int64(0)"
            ]
          },
          "metadata": {},
          "execution_count": 49
        }
      ]
    },
    {
      "cell_type": "code",
      "source": [
        "df.drop(columns=['Pilot Name','Passenger ID','First Name','Last Name'],inplace=True)"
      ],
      "metadata": {
        "id": "0NUrAyScuDKC"
      },
      "execution_count": 67,
      "outputs": []
    },
    {
      "cell_type": "markdown",
      "source": [
        "### Missing Values\n",
        "since we have a single column that deals with missing values , which is the arrival airport, we can just drop those rows orrrrrrrr check if they are related to cancelled fligths"
      ],
      "metadata": {
        "id": "ZNzb51s-mfej"
      }
    },
    {
      "cell_type": "code",
      "source": [
        "df[df['Arrival Airport'].isnull()==True]"
      ],
      "metadata": {
        "colab": {
          "base_uri": "https://localhost:8080/",
          "height": 348
        },
        "id": "HrRkOVLRmNu0",
        "outputId": "8cb69b05-4820-4eaa-91e4-05f6a0eff8ba"
      },
      "execution_count": 68,
      "outputs": [
        {
          "output_type": "execute_result",
          "data": {
            "text/plain": [
              "       Gender  Age  Nationality      Airport Name Airport Country Code  \\\n",
              "23265       0   35   Madagascar  Narrabri Airport                   AU   \n",
              "27941       0   38  Philippines  Narrabri Airport                   AU   \n",
              "38671       1   74         Peru  Narrabri Airport                   AU   \n",
              "41234       1   74      Croatia  Narrabri Airport                   AU   \n",
              "93895       1   33      Croatia  Narrabri Airport                   AU   \n",
              "\n",
              "      Country Name  Airport Continent  Continents Departure Date  \\\n",
              "23265    Australia                  4           4      9/10/2022   \n",
              "27941    Australia                  4           4     11/27/2022   \n",
              "38671    Australia                  4           4       1/5/2022   \n",
              "41234    Australia                  4           4      1/15/2022   \n",
              "93895    Australia                  4           4      9/10/2022   \n",
              "\n",
              "      Arrival Airport Flight Status Departure_DateTime  Departure_DayOfWeek  \\\n",
              "23265            <NA>     Cancelled         2022-09-10                    5   \n",
              "27941            <NA>     Cancelled         2022-11-27                    6   \n",
              "38671            <NA>     Cancelled         2022-01-05                    2   \n",
              "41234            <NA>     Cancelled         2022-01-15                    5   \n",
              "93895            <NA>     Cancelled         2022-09-10                    5   \n",
              "\n",
              "       Departure_Month  Departure_Day  Departure_Hour  Is_Weekend  \\\n",
              "23265                9             10               0           1   \n",
              "27941               11             27               0           1   \n",
              "38671                1              5               0           0   \n",
              "41234                1             15               0           1   \n",
              "93895                9             10               0           1   \n",
              "\n",
              "       Is_HolidaySeason  \n",
              "23265                 0  \n",
              "27941                 1  \n",
              "38671                 0  \n",
              "41234                 0  \n",
              "93895                 0  "
            ],
            "text/html": [
              "<div>\n",
              "<style scoped>\n",
              "    .dataframe tbody tr th:only-of-type {\n",
              "        vertical-align: middle;\n",
              "    }\n",
              "\n",
              "    .dataframe tbody tr th {\n",
              "        vertical-align: top;\n",
              "    }\n",
              "\n",
              "    .dataframe thead th {\n",
              "        text-align: right;\n",
              "    }\n",
              "</style>\n",
              "<table border=\"1\" class=\"dataframe\">\n",
              "  <thead>\n",
              "    <tr style=\"text-align: right;\">\n",
              "      <th></th>\n",
              "      <th>Gender</th>\n",
              "      <th>Age</th>\n",
              "      <th>Nationality</th>\n",
              "      <th>Airport Name</th>\n",
              "      <th>Airport Country Code</th>\n",
              "      <th>Country Name</th>\n",
              "      <th>Airport Continent</th>\n",
              "      <th>Continents</th>\n",
              "      <th>Departure Date</th>\n",
              "      <th>Arrival Airport</th>\n",
              "      <th>Flight Status</th>\n",
              "      <th>Departure_DateTime</th>\n",
              "      <th>Departure_DayOfWeek</th>\n",
              "      <th>Departure_Month</th>\n",
              "      <th>Departure_Day</th>\n",
              "      <th>Departure_Hour</th>\n",
              "      <th>Is_Weekend</th>\n",
              "      <th>Is_HolidaySeason</th>\n",
              "    </tr>\n",
              "  </thead>\n",
              "  <tbody>\n",
              "    <tr>\n",
              "      <th>23265</th>\n",
              "      <td>0</td>\n",
              "      <td>35</td>\n",
              "      <td>Madagascar</td>\n",
              "      <td>Narrabri Airport</td>\n",
              "      <td>AU</td>\n",
              "      <td>Australia</td>\n",
              "      <td>4</td>\n",
              "      <td>4</td>\n",
              "      <td>9/10/2022</td>\n",
              "      <td>&lt;NA&gt;</td>\n",
              "      <td>Cancelled</td>\n",
              "      <td>2022-09-10</td>\n",
              "      <td>5</td>\n",
              "      <td>9</td>\n",
              "      <td>10</td>\n",
              "      <td>0</td>\n",
              "      <td>1</td>\n",
              "      <td>0</td>\n",
              "    </tr>\n",
              "    <tr>\n",
              "      <th>27941</th>\n",
              "      <td>0</td>\n",
              "      <td>38</td>\n",
              "      <td>Philippines</td>\n",
              "      <td>Narrabri Airport</td>\n",
              "      <td>AU</td>\n",
              "      <td>Australia</td>\n",
              "      <td>4</td>\n",
              "      <td>4</td>\n",
              "      <td>11/27/2022</td>\n",
              "      <td>&lt;NA&gt;</td>\n",
              "      <td>Cancelled</td>\n",
              "      <td>2022-11-27</td>\n",
              "      <td>6</td>\n",
              "      <td>11</td>\n",
              "      <td>27</td>\n",
              "      <td>0</td>\n",
              "      <td>1</td>\n",
              "      <td>1</td>\n",
              "    </tr>\n",
              "    <tr>\n",
              "      <th>38671</th>\n",
              "      <td>1</td>\n",
              "      <td>74</td>\n",
              "      <td>Peru</td>\n",
              "      <td>Narrabri Airport</td>\n",
              "      <td>AU</td>\n",
              "      <td>Australia</td>\n",
              "      <td>4</td>\n",
              "      <td>4</td>\n",
              "      <td>1/5/2022</td>\n",
              "      <td>&lt;NA&gt;</td>\n",
              "      <td>Cancelled</td>\n",
              "      <td>2022-01-05</td>\n",
              "      <td>2</td>\n",
              "      <td>1</td>\n",
              "      <td>5</td>\n",
              "      <td>0</td>\n",
              "      <td>0</td>\n",
              "      <td>0</td>\n",
              "    </tr>\n",
              "    <tr>\n",
              "      <th>41234</th>\n",
              "      <td>1</td>\n",
              "      <td>74</td>\n",
              "      <td>Croatia</td>\n",
              "      <td>Narrabri Airport</td>\n",
              "      <td>AU</td>\n",
              "      <td>Australia</td>\n",
              "      <td>4</td>\n",
              "      <td>4</td>\n",
              "      <td>1/15/2022</td>\n",
              "      <td>&lt;NA&gt;</td>\n",
              "      <td>Cancelled</td>\n",
              "      <td>2022-01-15</td>\n",
              "      <td>5</td>\n",
              "      <td>1</td>\n",
              "      <td>15</td>\n",
              "      <td>0</td>\n",
              "      <td>1</td>\n",
              "      <td>0</td>\n",
              "    </tr>\n",
              "    <tr>\n",
              "      <th>93895</th>\n",
              "      <td>1</td>\n",
              "      <td>33</td>\n",
              "      <td>Croatia</td>\n",
              "      <td>Narrabri Airport</td>\n",
              "      <td>AU</td>\n",
              "      <td>Australia</td>\n",
              "      <td>4</td>\n",
              "      <td>4</td>\n",
              "      <td>9/10/2022</td>\n",
              "      <td>&lt;NA&gt;</td>\n",
              "      <td>Cancelled</td>\n",
              "      <td>2022-09-10</td>\n",
              "      <td>5</td>\n",
              "      <td>9</td>\n",
              "      <td>10</td>\n",
              "      <td>0</td>\n",
              "      <td>1</td>\n",
              "      <td>0</td>\n",
              "    </tr>\n",
              "  </tbody>\n",
              "</table>\n",
              "</div>"
            ]
          },
          "metadata": {},
          "execution_count": 68
        }
      ]
    },
    {
      "cell_type": "code",
      "source": [
        "#here what we can do is keep the ones with cancelled , but drop the otehrs\n",
        "issue_rows = df[(df['Arrival Airport'].isnull()) & (df['Flight Status'] != 'Cancelled') &(df['Flight Status'] != 'Diverted')  ]\n",
        "df.drop(issue_rows.index,inplace=True)"
      ],
      "metadata": {
        "id": "bJlHIP7SnXUg"
      },
      "execution_count": 69,
      "outputs": []
    },
    {
      "cell_type": "code",
      "source": [
        "len(df)"
      ],
      "metadata": {
        "colab": {
          "base_uri": "https://localhost:8080/"
        },
        "id": "ABk4WQiPoLJ-",
        "outputId": "b0c854b9-fb29-4f91-9973-0ab194fc3646"
      },
      "execution_count": 70,
      "outputs": [
        {
          "output_type": "execute_result",
          "data": {
            "text/plain": [
              "98614"
            ]
          },
          "metadata": {},
          "execution_count": 70
        }
      ]
    },
    {
      "cell_type": "code",
      "source": [
        "#just 5 rows but it is theidea that matters :)"
      ],
      "metadata": {
        "id": "_UIexu8AotIK"
      },
      "execution_count": 71,
      "outputs": []
    },
    {
      "cell_type": "markdown",
      "source": [
        "### Data Types"
      ],
      "metadata": {
        "id": "NHqVIwAHo8bK"
      }
    },
    {
      "cell_type": "code",
      "source": [
        "#df['Departure Date'] = cudf.to_datetime(df['Departure Date'])\n",
        "\"\"\"\n",
        "the first methode directly will cause an error cause cudf does not work when the datetime have different formats , the easiest solutions is to convert to pandas then reconvert to cudf\n",
        "\"\"\"\n",
        "df_pandas = df.to_pandas()\n",
        "df_pandas['Departure_DateTime'] = pd.to_datetime(df_pandas['Departure Date'], errors='coerce')\n",
        "df = cudf.from_pandas(df_pandas)\n"
      ],
      "metadata": {
        "id": "zCsbhlPIo1Z5"
      },
      "execution_count": 72,
      "outputs": []
    },
    {
      "cell_type": "markdown",
      "source": [
        "## do some magic of gpu to cpu happen in the shadows when we convert from pandas to cudf\n",
        "kjlk"
      ],
      "metadata": {
        "id": "8y3DKTsEvaLI"
      }
    },
    {
      "cell_type": "code",
      "source": [
        "# Date components\n",
        "df['Departure_DayOfWeek'] = df['Departure_DateTime'].dt.dayofweek  # 0=Monday, 6=Sunday\n",
        "df['Departure_Month'] = df['Departure_DateTime'].dt.month\n",
        "df['Departure_Day'] = df['Departure_DateTime'].dt.day\n",
        "df['Departure_Hour'] = df['Departure_DateTime'].dt.hour\n",
        "\n",
        "# Derived features\n",
        "df['Is_Weekend'] = (df['Departure_DayOfWeek'] >= 5).astype(int)  # 1 if Sat/Sun\n",
        "df['Is_HolidaySeason'] = df['Departure_Month'].isin([11, 12]).astype(int)  # Nov/Dec holidays\n",
        "#df['TimeOfDay'] = df['Departure_Hour'].apply(lambda x: 'Morning' if x < 12 else 'Afternoon' if x < 18 else 'Evening')"
      ],
      "metadata": {
        "id": "O0aw-vDCvGNs"
      },
      "execution_count": 73,
      "outputs": []
    },
    {
      "cell_type": "code",
      "source": [
        "#map doesnt work with cudf\n",
        "# mm"
      ],
      "metadata": {
        "id": "hrP6m95Dv4ey"
      },
      "execution_count": 74,
      "outputs": []
    },
    {
      "cell_type": "code",
      "source": [
        "df.drop(columns=['Departure Date'],inplace=True)"
      ],
      "metadata": {
        "id": "oCu-BbAZwazb"
      },
      "execution_count": 80,
      "outputs": []
    },
    {
      "cell_type": "code",
      "source": [
        "df['Gender'] = df['Gender'].astype('category').cat.codes\n",
        "df['Airport Continent'] = df['Airport Continent'].astype('category').cat.codes\n",
        "df['Continents'] = df['Continents'].astype('category').cat.codes\n",
        "df['Flight Status'] = df['Flight Status'].astype('category').cat.codes\n",
        "\n",
        "#we encode the ones with not many values"
      ],
      "metadata": {
        "id": "KU3TS7blskAZ"
      },
      "execution_count": 97,
      "outputs": []
    },
    {
      "cell_type": "code",
      "source": [
        "df['Gender']"
      ],
      "metadata": {
        "colab": {
          "base_uri": "https://localhost:8080/"
        },
        "id": "Gf6LU2A_soFr",
        "outputId": "2bb3d967-8a8d-480c-f7ac-a27020e841b9"
      },
      "execution_count": 82,
      "outputs": [
        {
          "output_type": "execute_result",
          "data": {
            "text/plain": [
              "0        0\n",
              "1        1\n",
              "2        1\n",
              "3        0\n",
              "4        1\n",
              "        ..\n",
              "98614    1\n",
              "98615    0\n",
              "98616    1\n",
              "98617    0\n",
              "98618    0\n",
              "Name: Gender, Length: 98614, dtype: uint8"
            ]
          },
          "metadata": {},
          "execution_count": 82
        }
      ]
    },
    {
      "cell_type": "code",
      "source": [
        "# Example approach\n",
        "print(df['Arrival Airport'].value_counts)"
      ],
      "metadata": {
        "colab": {
          "base_uri": "https://localhost:8080/"
        },
        "id": "FgpDXiKI8jgu",
        "outputId": "c79414a5-7c32-46d1-deb4-50ed7687936b"
      },
      "execution_count": 99,
      "outputs": [
        {
          "output_type": "stream",
          "name": "stdout",
          "text": [
            "<bound method Series.value_counts of 0        CXF\n",
            "1        YCO\n",
            "2        GNB\n",
            "3        YND\n",
            "4        SEE\n",
            "        ... \n",
            "98614    HAA\n",
            "98615    IVA\n",
            "98616    ABC\n",
            "98617    GGN\n",
            "98618    JOK\n",
            "Name: Arrival Airport, Length: 98614, dtype: object>\n"
          ]
        }
      ]
    },
    {
      "cell_type": "code",
      "source": [
        "len(df['Flight Status'].unique())"
      ],
      "metadata": {
        "colab": {
          "base_uri": "https://localhost:8080/"
        },
        "id": "LZCdo_g6_HA8",
        "outputId": "6bf40e30-c307-4c30-c695-a38b79cbb4a0"
      },
      "execution_count": 96,
      "outputs": [
        {
          "output_type": "execute_result",
          "data": {
            "text/plain": [
              "3"
            ]
          },
          "metadata": {},
          "execution_count": 96
        }
      ]
    },
    {
      "cell_type": "code",
      "source": [
        "df.columns"
      ],
      "metadata": {
        "colab": {
          "base_uri": "https://localhost:8080/"
        },
        "id": "nVg7mqQLwFeI",
        "outputId": "91b6d419-22b1-416c-94a4-4a55ce87b053"
      },
      "execution_count": 85,
      "outputs": [
        {
          "output_type": "execute_result",
          "data": {
            "text/plain": [
              "Index(['Gender', 'Age', 'Nationality', 'Airport Name', 'Airport Country Code',\n",
              "       'Country Name', 'Airport Continent', 'Continents', 'Arrival Airport',\n",
              "       'Flight Status', 'Departure_DateTime', 'Departure_DayOfWeek',\n",
              "       'Departure_Month', 'Departure_Day', 'Departure_Hour', 'Is_Weekend',\n",
              "       'Is_HolidaySeason'],\n",
              "      dtype='object')"
            ]
          },
          "metadata": {},
          "execution_count": 85
        }
      ]
    },
    {
      "cell_type": "code",
      "source": [
        "#for values with high cardinality we will do frequency encoding\n",
        "high_cardinality_cols=['Nationality','Airport Name','Airport Country Code','Country Name','Arrival Airport']\n",
        "for col in high_cardinality_cols:\n",
        "    # Calculate frequencies\n",
        "    freq_map = df[col].value_counts()\n",
        "\n",
        "    df[f'{col}_freq'] = df[col].map(freq_map)"
      ],
      "metadata": {
        "id": "X-vMXNc6-7GF"
      },
      "execution_count": 102,
      "outputs": []
    },
    {
      "cell_type": "code",
      "source": [
        "df.head()"
      ],
      "metadata": {
        "colab": {
          "base_uri": "https://localhost:8080/",
          "height": 412
        },
        "id": "wFqxS4BAstKs",
        "outputId": "c2db6a0d-e170-4660-a145-15a43914f3d1"
      },
      "execution_count": 103,
      "outputs": [
        {
          "output_type": "execute_result",
          "data": {
            "text/plain": [
              "   Gender  Age Nationality               Airport Name Airport Country Code  \\\n",
              "0       0   62       Japan           Coldfoot Airport                   US   \n",
              "1       1   62   Nicaragua          Kugluktuk Airport                   CA   \n",
              "2       1   67      Russia     Grenoble-Isère Airport                   FR   \n",
              "3       0   71       China  Ottawa / Gatineau Airport                   CA   \n",
              "4       1   21       China            Gillespie Field                   US   \n",
              "\n",
              "    Country Name  Airport Continent  Continents Arrival Airport  \\\n",
              "0  United States                  3           3             CXF   \n",
              "1         Canada                  3           3             YCO   \n",
              "2         France                  2           2             GNB   \n",
              "3         Canada                  3           3             YND   \n",
              "4  United States                  3           3             SEE   \n",
              "\n",
              "   Flight Status  ... Departure_Month  Departure_Day  Departure_Hour  \\\n",
              "0              2  ...               6             28               0   \n",
              "1              2  ...              12             26               0   \n",
              "2              2  ...               1             18               0   \n",
              "3              1  ...               9             16               0   \n",
              "4              2  ...               2             25               0   \n",
              "\n",
              "   Is_Weekend  Is_HolidaySeason  Nationality_freq  Airport Name_freq  \\\n",
              "0           0                 0              1805                 11   \n",
              "1           0                 1               203                  9   \n",
              "2           0                 0              5693                 15   \n",
              "3           0                 0             18316                  7   \n",
              "4           0                 0             18316                 11   \n",
              "\n",
              "   Airport Country Code_freq  Country Name_freq  Arrival Airport_freq  \n",
              "0                      22104              22104                    11  \n",
              "1                       5424               5424                     9  \n",
              "2                       1382               1382                    15  \n",
              "3                       5424               5424                     7  \n",
              "4                      22104              22104                    11  \n",
              "\n",
              "[5 rows x 22 columns]"
            ],
            "text/html": [
              "<div>\n",
              "<style scoped>\n",
              "    .dataframe tbody tr th:only-of-type {\n",
              "        vertical-align: middle;\n",
              "    }\n",
              "\n",
              "    .dataframe tbody tr th {\n",
              "        vertical-align: top;\n",
              "    }\n",
              "\n",
              "    .dataframe thead th {\n",
              "        text-align: right;\n",
              "    }\n",
              "</style>\n",
              "<table border=\"1\" class=\"dataframe\">\n",
              "  <thead>\n",
              "    <tr style=\"text-align: right;\">\n",
              "      <th></th>\n",
              "      <th>Gender</th>\n",
              "      <th>Age</th>\n",
              "      <th>Nationality</th>\n",
              "      <th>Airport Name</th>\n",
              "      <th>Airport Country Code</th>\n",
              "      <th>Country Name</th>\n",
              "      <th>Airport Continent</th>\n",
              "      <th>Continents</th>\n",
              "      <th>Arrival Airport</th>\n",
              "      <th>Flight Status</th>\n",
              "      <th>...</th>\n",
              "      <th>Departure_Month</th>\n",
              "      <th>Departure_Day</th>\n",
              "      <th>Departure_Hour</th>\n",
              "      <th>Is_Weekend</th>\n",
              "      <th>Is_HolidaySeason</th>\n",
              "      <th>Nationality_freq</th>\n",
              "      <th>Airport Name_freq</th>\n",
              "      <th>Airport Country Code_freq</th>\n",
              "      <th>Country Name_freq</th>\n",
              "      <th>Arrival Airport_freq</th>\n",
              "    </tr>\n",
              "  </thead>\n",
              "  <tbody>\n",
              "    <tr>\n",
              "      <th>0</th>\n",
              "      <td>0</td>\n",
              "      <td>62</td>\n",
              "      <td>Japan</td>\n",
              "      <td>Coldfoot Airport</td>\n",
              "      <td>US</td>\n",
              "      <td>United States</td>\n",
              "      <td>3</td>\n",
              "      <td>3</td>\n",
              "      <td>CXF</td>\n",
              "      <td>2</td>\n",
              "      <td>...</td>\n",
              "      <td>6</td>\n",
              "      <td>28</td>\n",
              "      <td>0</td>\n",
              "      <td>0</td>\n",
              "      <td>0</td>\n",
              "      <td>1805</td>\n",
              "      <td>11</td>\n",
              "      <td>22104</td>\n",
              "      <td>22104</td>\n",
              "      <td>11</td>\n",
              "    </tr>\n",
              "    <tr>\n",
              "      <th>1</th>\n",
              "      <td>1</td>\n",
              "      <td>62</td>\n",
              "      <td>Nicaragua</td>\n",
              "      <td>Kugluktuk Airport</td>\n",
              "      <td>CA</td>\n",
              "      <td>Canada</td>\n",
              "      <td>3</td>\n",
              "      <td>3</td>\n",
              "      <td>YCO</td>\n",
              "      <td>2</td>\n",
              "      <td>...</td>\n",
              "      <td>12</td>\n",
              "      <td>26</td>\n",
              "      <td>0</td>\n",
              "      <td>0</td>\n",
              "      <td>1</td>\n",
              "      <td>203</td>\n",
              "      <td>9</td>\n",
              "      <td>5424</td>\n",
              "      <td>5424</td>\n",
              "      <td>9</td>\n",
              "    </tr>\n",
              "    <tr>\n",
              "      <th>2</th>\n",
              "      <td>1</td>\n",
              "      <td>67</td>\n",
              "      <td>Russia</td>\n",
              "      <td>Grenoble-Isère Airport</td>\n",
              "      <td>FR</td>\n",
              "      <td>France</td>\n",
              "      <td>2</td>\n",
              "      <td>2</td>\n",
              "      <td>GNB</td>\n",
              "      <td>2</td>\n",
              "      <td>...</td>\n",
              "      <td>1</td>\n",
              "      <td>18</td>\n",
              "      <td>0</td>\n",
              "      <td>0</td>\n",
              "      <td>0</td>\n",
              "      <td>5693</td>\n",
              "      <td>15</td>\n",
              "      <td>1382</td>\n",
              "      <td>1382</td>\n",
              "      <td>15</td>\n",
              "    </tr>\n",
              "    <tr>\n",
              "      <th>3</th>\n",
              "      <td>0</td>\n",
              "      <td>71</td>\n",
              "      <td>China</td>\n",
              "      <td>Ottawa / Gatineau Airport</td>\n",
              "      <td>CA</td>\n",
              "      <td>Canada</td>\n",
              "      <td>3</td>\n",
              "      <td>3</td>\n",
              "      <td>YND</td>\n",
              "      <td>1</td>\n",
              "      <td>...</td>\n",
              "      <td>9</td>\n",
              "      <td>16</td>\n",
              "      <td>0</td>\n",
              "      <td>0</td>\n",
              "      <td>0</td>\n",
              "      <td>18316</td>\n",
              "      <td>7</td>\n",
              "      <td>5424</td>\n",
              "      <td>5424</td>\n",
              "      <td>7</td>\n",
              "    </tr>\n",
              "    <tr>\n",
              "      <th>4</th>\n",
              "      <td>1</td>\n",
              "      <td>21</td>\n",
              "      <td>China</td>\n",
              "      <td>Gillespie Field</td>\n",
              "      <td>US</td>\n",
              "      <td>United States</td>\n",
              "      <td>3</td>\n",
              "      <td>3</td>\n",
              "      <td>SEE</td>\n",
              "      <td>2</td>\n",
              "      <td>...</td>\n",
              "      <td>2</td>\n",
              "      <td>25</td>\n",
              "      <td>0</td>\n",
              "      <td>0</td>\n",
              "      <td>0</td>\n",
              "      <td>18316</td>\n",
              "      <td>11</td>\n",
              "      <td>22104</td>\n",
              "      <td>22104</td>\n",
              "      <td>11</td>\n",
              "    </tr>\n",
              "  </tbody>\n",
              "</table>\n",
              "<p>5 rows × 22 columns</p>\n",
              "</div>"
            ]
          },
          "metadata": {},
          "execution_count": 103
        }
      ]
    },
    {
      "cell_type": "markdown",
      "source": [
        "# Exploratory Data Analysis (EDA)"
      ],
      "metadata": {
        "id": "r2iTKKgbwt-C"
      }
    },
    {
      "cell_type": "code",
      "source": [],
      "metadata": {
        "id": "9A0hzxf8wj-A"
      },
      "execution_count": null,
      "outputs": []
    }
  ]
}